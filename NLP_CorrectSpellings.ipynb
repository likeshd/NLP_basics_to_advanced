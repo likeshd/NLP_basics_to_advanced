{
  "nbformat": 4,
  "nbformat_minor": 0,
  "metadata": {
    "colab": {
      "provenance": [],
      "authorship_tag": "ABX9TyMRdqx0Q4ku2hSm0bltuhZC",
      "include_colab_link": true
    },
    "kernelspec": {
      "name": "python3",
      "display_name": "Python 3"
    },
    "language_info": {
      "name": "python"
    }
  },
  "cells": [
    {
      "cell_type": "markdown",
      "metadata": {
        "id": "view-in-github",
        "colab_type": "text"
      },
      "source": [
        "<a href=\"https://colab.research.google.com/github/likeshd/NLP_basics_to_advanced/blob/main/NLP_CorrectSpellings.ipynb\" target=\"_parent\"><img src=\"https://colab.research.google.com/assets/colab-badge.svg\" alt=\"Open In Colab\"/></a>"
      ]
    },
    {
      "cell_type": "code",
      "execution_count": null,
      "metadata": {
        "id": "1nKqUZPch-eT"
      },
      "outputs": [],
      "source": [
        "#use an NLP library in Python known as TextBlob."
      ]
    },
    {
      "cell_type": "markdown",
      "source": [
        "### What is TextBlob?\n",
        "TextBlob is a Python library for processing text data. It provides a simple API for delving into common natural language processing tasks such as tagging part of speech, extracting nominal sentences, analyzing feelings, classifying, translating, and more.\n",
        "\n",
        "It provides some very useful features for Machine Learning projects like:\n",
        "\n",
        "Noun phrase extraction\n",
        "Part-of-speech tagging\n",
        "Sentiment analysis\n",
        "Classification\n",
        "Tokenization\n",
        "Word and phrase frequencies\n",
        "Parsing\n",
        "n-grams\n",
        "Word inflexion and lemmatization\n",
        "Spelling correction\n",
        "Add new models or languages through extensions\n",
        "WordNet integration"
      ],
      "metadata": {
        "id": "Q3h_0969iXnC"
      }
    },
    {
      "cell_type": "code",
      "source": [
        "!pip install textblob\n"
      ],
      "metadata": {
        "colab": {
          "base_uri": "https://localhost:8080/"
        },
        "id": "8F4jqE1DinLH",
        "outputId": "06f635b1-1e49-43cd-e90c-8515decce412"
      },
      "execution_count": 2,
      "outputs": [
        {
          "output_type": "stream",
          "name": "stdout",
          "text": [
            "Requirement already satisfied: textblob in /usr/local/lib/python3.10/dist-packages (0.17.1)\n",
            "Requirement already satisfied: nltk>=3.1 in /usr/local/lib/python3.10/dist-packages (from textblob) (3.8.1)\n",
            "Requirement already satisfied: click in /usr/local/lib/python3.10/dist-packages (from nltk>=3.1->textblob) (8.1.7)\n",
            "Requirement already satisfied: joblib in /usr/local/lib/python3.10/dist-packages (from nltk>=3.1->textblob) (1.4.2)\n",
            "Requirement already satisfied: regex>=2021.8.3 in /usr/local/lib/python3.10/dist-packages (from nltk>=3.1->textblob) (2024.5.15)\n",
            "Requirement already satisfied: tqdm in /usr/local/lib/python3.10/dist-packages (from nltk>=3.1->textblob) (4.66.4)\n"
          ]
        }
      ]
    },
    {
      "cell_type": "code",
      "source": [
        "words = [\"responciblity\", \"monky\",\"hammr\",\"shi\",\"avengr\",\"nes\"]"
      ],
      "metadata": {
        "id": "diVtYJ-Wi3BP"
      },
      "execution_count": 12,
      "outputs": []
    },
    {
      "cell_type": "code",
      "source": [
        "from textblob import TextBlob\n",
        "corrected_words = []\n",
        "for i in words:\n",
        "    corrected_words.append(TextBlob(i))\n",
        "print(\"Wrong words :\", words)\n",
        "print(\"Corrected Words are :\")\n",
        "for i in corrected_words:\n",
        "    print(i.correct(), end=\" \")"
      ],
      "metadata": {
        "colab": {
          "base_uri": "https://localhost:8080/"
        },
        "id": "nuD6utTBiZMg",
        "outputId": "9a1dc878-046f-45b0-f8c3-1334140a6cc4"
      },
      "execution_count": 13,
      "outputs": [
        {
          "output_type": "stream",
          "name": "stdout",
          "text": [
            "Wrong words : ['responciblity', 'monky', 'hammr', 'shi', 'avengr', 'nes']\n",
            "Corrected Words are :\n",
            "responsibility money hammer she avenge new "
          ]
        }
      ]
    }
  ]
}